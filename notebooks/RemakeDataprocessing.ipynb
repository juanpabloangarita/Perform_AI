{
 "cells": [
  {
   "cell_type": "code",
   "execution_count": 1,
   "id": "7feead06-47a4-4daf-bb58-cc268b5ff9df",
   "metadata": {},
   "outputs": [],
   "source": [
    "# Perform_AI.src.data_processing.py\n",
    "\n",
    "import streamlit as st\n",
    "from datetime import datetime\n",
    "from datetime import timedelta\n",
    "import pandas as pd\n",
    "import numpy as np\n",
    "import csv\n",
    "import os\n",
    "import sys\n",
    "import plotly.graph_objs as go\n",
    "import plotly.io as pio"
   ]
  },
  {
   "cell_type": "code",
   "execution_count": 2,
   "id": "655e04fa-7cb7-49ad-99ce-ff0f4acb190b",
   "metadata": {},
   "outputs": [],
   "source": [
    "import sys\n",
    "from pathlib import Path\n",
    "\n",
    "# Set the root directory as the path, assuming Perform_AI is the project root\n",
    "sys.path.append(str(Path().resolve().parent))"
   ]
  },
  {
   "cell_type": "code",
   "execution_count": 3,
   "id": "dbb9e4cf-b0cc-448a-94cf-87fc41f5b88f",
   "metadata": {},
   "outputs": [],
   "source": [
    "from src.calorie_calculations import calculate_total_calories\n",
    "\n",
    "from src.calorie_estimation_models import estimate_calories_with_duration, estimate_calories_with_nixtla\n",
    "from src.tss_calculations import calculate_total_tss_and_metrics_from_tss\n",
    "\n",
    "from src.data_loader.files_extracting import FileLoader\n",
    "from src.data_loader.files_saving import FileSaver\n",
    "from params import CLOUD_ON, GIVEN_DATE, BEST_MODEL"
   ]
  },
  {
   "cell_type": "code",
   "execution_count": 4,
   "id": "5ed3bba9-e23c-42a1-ab96-b0bac02c032a",
   "metadata": {},
   "outputs": [],
   "source": [
    "def clean_data_basic(df):\n",
    "    \"\"\"\n",
    "    Clean data for the given dataframes.\n",
    "\n",
    "    Parameters:\n",
    "        dfs (dict): Dictionary of DataFrames to clean.\n",
    "        date_cols (dict): Dictionary mapping DataFrame names to their date column names.\n",
    "    \"\"\"\n",
    "    df = df.replace('--', np.nan)\n",
    "    df = df.drop_duplicates()\n",
    "\n",
    "    return df"
   ]
  },
  {
   "cell_type": "code",
   "execution_count": 5,
   "id": "06724212-7a94-408f-8838-cd63f4b846b5",
   "metadata": {},
   "outputs": [],
   "source": [
    "def convert_to_datetime(df, date_col):\n",
    "    \"\"\"\n",
    "    Convert specified column to datetime and set as index.\n",
    "\n",
    "    Parameters:\n",
    "        df (pd.DataFrame): DataFrame to process.\n",
    "        date_col (str): Name of the date column.\n",
    "    \"\"\"\n",
    "    if date_col != 'Timestamp':\n",
    "        df['Date'] = pd.to_datetime(df[date_col])\n",
    "        df = df.sort_values('Date')\n",
    "        df = df.set_index('Date')\n",
    "    else:\n",
    "        df.index.name = 'Date'\n",
    "        df = df.sort_values('Date')\n",
    "        df = df.set_index(pd.to_datetime(df.index))\n",
    "\n",
    "    if date_col in df.columns:\n",
    "        df = df.drop(columns=date_col)\n",
    "    return df"
   ]
  },
  {
   "cell_type": "code",
   "execution_count": 6,
   "id": "8382952b-09bb-474b-a1c9-0016e8f53e4c",
   "metadata": {},
   "outputs": [],
   "source": [
    "def clean_activities(df):\n",
    "    \"\"\"\n",
    "    Clean activity data to keep relevant columns and rename them.\n",
    "\n",
    "    Parameters:\n",
    "        df (pd.DataFrame): DataFrame containing activity data.\n",
    "\n",
    "    Returns:\n",
    "        pd.DataFrame: Cleaned DataFrame.\n",
    "    \"\"\"\n",
    "    columns_to_keep = [\"Type d'activité\", 'Distance', 'Calories', 'Durée', 'Fréquence cardiaque moyenne']\n",
    "    df = df[columns_to_keep].copy().rename(columns={\n",
    "        'Distance': 'DistanceInMeters',\n",
    "        'Durée': 'TimeTotalInHours',\n",
    "        'Fréquence cardiaque moyenne': 'HeartRateAverage',\n",
    "        'Type d\\'activité': 'WorkoutType'\n",
    "    })\n",
    "\n",
    "    df['HeartRateAverage'] = pd.to_numeric(df['HeartRateAverage'], errors='coerce')\n",
    "    df = df[df['HeartRateAverage'].notna()]\n",
    "\n",
    "    df = df[~df[\"WorkoutType\"].isin(['HIIT', 'Exercice de respiration', 'Musculation'])].copy()\n",
    "\n",
    "    sports_types = {\n",
    "        'Nat. piscine': 'Swim',\n",
    "        'Cyclisme': 'Bike',\n",
    "        'Course à pied': 'Run',\n",
    "        \"Vélo d'intérieur\": 'Bike',\n",
    "        'Cyclisme virtuel': 'Bike',\n",
    "        'Course à pied sur tapis roulant': 'Run',\n",
    "        'Natation': 'Swim',\n",
    "    }\n",
    "    df[\"WorkoutType\"] = df[\"WorkoutType\"].apply(lambda x: sports_types[x])\n",
    "\n",
    "    # Convert Durée from 'hh:mm:ss' to total minutes\n",
    "    df['TimeTotalInHours'] = pd.to_timedelta(df['TimeTotalInHours']).dt.total_seconds() / 3600  # Convert to Hours\n",
    "\n",
    "    # Convert relevant columns to numeric (remove commas, etc.)\n",
    "    df['DistanceInMeters'] = pd.to_numeric(df['DistanceInMeters'].str.replace(',', '.'), errors='coerce')\n",
    "    df['Calories'] = pd.to_numeric(df['Calories'], errors='coerce')\n",
    "\n",
    "    # Drop rows with NaN values in critical columns\n",
    "    df = df.dropna(subset=['DistanceInMeters', 'Calories', 'TimeTotalInHours', 'HeartRateAverage'])\n",
    "\n",
    "    # df = df[df['DistanceInMeters']>0].copy() # NOTE: not needed since, i will be using only TotalDuration or TimeTotalInHours\n",
    "\n",
    "    return df"
   ]
  },
  {
   "cell_type": "code",
   "execution_count": 7,
   "id": "3e5ebf5f-91d0-4c7e-9eab-2357035a4e5d",
   "metadata": {},
   "outputs": [],
   "source": [
    "\n",
    "def filter_workouts_and_remove_nans(df, given_date = GIVEN_DATE):\n",
    "    columns_to_keep_workouts = ['WorkoutType', 'Title', 'WorkoutDescription', 'CoachComments', 'HeartRateAverage', 'TimeTotalInHours', 'DistanceInMeters', 'PlannedDuration', 'PlannedDistanceInMeters']\n",
    "    df = df[columns_to_keep_workouts].copy()\n",
    "\n",
    "    before_df = df[df.index < given_date].copy()\n",
    "    after_df = df[df.index >= given_date].copy()\n",
    "    # Remove rows, before the given date, where i didn't train, meaning, where HR and Total Time is nan.\n",
    "    before_df_cleaned = before_df[~(before_df['HeartRateAverage'].isna() & before_df['TimeTotalInHours'].isna())].copy() # NOTE: HERE IS THE PART THAT CAUSES THE WEIRD BEHAVIOUR. Explanation below\n",
    "    # TODO: (BTW, I DON'T NEED TO REMOVE THE HEARTRATEAVERAGE.ISNA, since what's important for me is timetotalinhours only)\n",
    "\n",
    "    # Remove rows, after the given date, where Planned Duration is nan, which means there is no info on training, so no tss\n",
    "    after_df = after_df[after_df['PlannedDuration'].notna()]\n",
    "\n",
    "    # Concatenate before and after dataframes\n",
    "    w_df = pd.concat([before_df_cleaned, after_df])\n",
    "    # Keep dates where there was a Run Swim or Bike training Plan\n",
    "    w_df = w_df[w_df['WorkoutType'].isin(['Run', 'Swim', 'Bike'])]\n",
    "\n",
    "    # Fill NaN values in object columns with an empty string\n",
    "    object_cols = w_df.select_dtypes(include=['object']).columns\n",
    "    w_df[object_cols] = w_df[object_cols].fillna('')\n",
    "\n",
    "    return w_df"
   ]
  },
  {
   "cell_type": "code",
   "execution_count": 8,
   "id": "5d0a8f3c-b34e-4631-a8b0-a8fc0b1f365e",
   "metadata": {},
   "outputs": [],
   "source": [
    "def standardize_date_index(df):\n",
    "    \"\"\"\n",
    "    Converts the index of the dataframe to datetime and formats it as 'YYYY-MM-DD'.\n",
    "\n",
    "    Parameters:\n",
    "    df (pd.DataFrame): DataFrame with a date index to be standardized.\n",
    "\n",
    "    Returns:\n",
    "    pd.DataFrame: DataFrame with the index formatted as 'YYYY-MM-DD'.\n",
    "    \"\"\"\n",
    "    # Convert index to datetime\n",
    "    df.index = pd.to_datetime(df.index)\n",
    "    # Format index as 'YYYY-MM-DD'\n",
    "    df.index = df.index.strftime('%Y-%m-%d')\n",
    "    return df\n"
   ]
  },
  {
   "cell_type": "code",
   "execution_count": 9,
   "id": "ceaea5bb-2d15-4386-8a7e-1d1fd861042b",
   "metadata": {},
   "outputs": [
    {
     "name": "stderr",
     "output_type": "stream",
     "text": [
      "2024-11-01 10:55:16,671 - INFO - Tp Workouts 2022-03-03 To 2023-03-03 dataframe loaded successfully from /Users/juanpabloangaritaafricano/code/juanpabloangarita/Perform_AI/data/raw/csv/tp_workouts_2022-03-03_to_2023-03-03.csv\n",
      "2024-11-01 10:55:16,674 - INFO - Tp Workouts 2023-03-03 To 2024-03-03 dataframe loaded successfully from /Users/juanpabloangaritaafricano/code/juanpabloangarita/Perform_AI/data/raw/csv/tp_workouts_2023-03-03_to_2024-03-03.csv\n",
      "2024-11-01 10:55:16,678 - INFO - Tp Workouts 2024-03-03 To 2025-03-03 dataframe loaded successfully from /Users/juanpabloangaritaafricano/code/juanpabloangarita/Perform_AI/data/raw/csv/tp_workouts_2024-03-03_to_2025-03-03.csv\n",
      "2024-11-01 10:55:16,686 - INFO - Activities dataframe loaded successfully from /Users/juanpabloangaritaafricano/code/juanpabloangarita/Perform_AI/data/raw/csv/activities.csv\n",
      "2024-11-01 10:55:16,691 - INFO - Food-Data-Group1 dataframe loaded successfully from /Users/juanpabloangaritaafricano/code/juanpabloangarita/Perform_AI/data/raw/csv/FOOD-DATA-GROUP1.csv\n",
      "2024-11-01 10:55:16,693 - INFO - Food-Data-Group2 dataframe loaded successfully from /Users/juanpabloangaritaafricano/code/juanpabloangarita/Perform_AI/data/raw/csv/FOOD-DATA-GROUP2.csv\n",
      "2024-11-01 10:55:16,696 - INFO - Food-Data-Group3 dataframe loaded successfully from /Users/juanpabloangaritaafricano/code/juanpabloangarita/Perform_AI/data/raw/csv/FOOD-DATA-GROUP3.csv\n",
      "2024-11-01 10:55:16,698 - INFO - Food-Data-Group4 dataframe loaded successfully from /Users/juanpabloangaritaafricano/code/juanpabloangarita/Perform_AI/data/raw/csv/FOOD-DATA-GROUP4.csv\n",
      "2024-11-01 10:55:16,700 - INFO - Food-Data-Group5 dataframe loaded successfully from /Users/juanpabloangaritaafricano/code/juanpabloangarita/Perform_AI/data/raw/csv/FOOD-DATA-GROUP5.csv\n"
     ]
    }
   ],
   "source": [
    "dataframes_names = {\n",
    "    'workouts': ['tp_workouts_2022-03-03_to_2023-03-03', 'tp_workouts_2023-03-03_to_2024-03-03', 'tp_workouts_2024-03-03_to_2025-03-03'],\n",
    "    'activities': 'activities',\n",
    "    'foods': [f\"FOOD-DATA-GROUP{i}\" for i in range(1,6)]\n",
    "}\n",
    "\n",
    "workouts_df = pd.concat([FileLoader()._load_csv('data/raw/csv', name) for name in dataframes_names['workouts']], ignore_index=True)\n",
    "activities_df = FileLoader()._load_csv('data/raw/csv', dataframes_names['activities'])\n",
    "foods = pd.concat([FileLoader()._load_csv('data/raw/csv', name, index=0) for name in dataframes_names['foods']], ignore_index=True)"
   ]
  },
  {
   "cell_type": "code",
   "execution_count": 10,
   "id": "6325c6d4-2b4b-46e0-ad73-b9edbf7b4e97",
   "metadata": {},
   "outputs": [],
   "source": [
    "dataframes = {\n",
    "    'Date': activities_df,\n",
    "    #'Date': sleep_df,\n",
    "    #'Timestamp': health_metrics_df, # already as index\n",
    "    'WorkoutDay': workouts_df\n",
    "}"
   ]
  },
  {
   "cell_type": "code",
   "execution_count": 11,
   "id": "f6d5ecfe-546c-40f9-9e18-7b913807f3e4",
   "metadata": {},
   "outputs": [],
   "source": [
    "workouts_df = clean_data_basic(workouts_df).copy()"
   ]
  },
  {
   "cell_type": "code",
   "execution_count": 12,
   "id": "df6d8497-69d5-44ce-876c-4ffcb23e16db",
   "metadata": {},
   "outputs": [],
   "source": [
    "workouts_df = convert_to_datetime(workouts_df, 'WorkoutDay').copy()"
   ]
  },
  {
   "cell_type": "code",
   "execution_count": 13,
   "id": "963817de-7520-4625-90fa-3f526ba1f048",
   "metadata": {},
   "outputs": [],
   "source": [
    "activities_df = clean_data_basic(activities_df).copy()"
   ]
  },
  {
   "cell_type": "code",
   "execution_count": 14,
   "id": "b19be6ac-f227-4c99-a075-5f9dfe8a33b0",
   "metadata": {},
   "outputs": [],
   "source": [
    "activities_df = convert_to_datetime(activities_df, 'Date').copy()"
   ]
  },
  {
   "cell_type": "code",
   "execution_count": 14,
   "id": "88340e34-2650-4d28-8446-fb991ad6716b",
   "metadata": {},
   "outputs": [],
   "source": [
    "def filter_and_translate_columns(df, column_mapping, columns_to_keep):\n",
    "    \"\"\"\n",
    "    Translates column names in a DataFrame based on a given mapping and filters to keep only specified columns.\n",
    "\n",
    "    Parameters:\n",
    "    - df (pd.DataFrame): The DataFrame with original column names.\n",
    "    - column_mapping (dict): A dictionary mapping original column names to desired column names.\n",
    "    - columns_to_keep (list, optional): List of columns to keep in the final DataFrame after renaming. Defaults to None.\n",
    "\n",
    "    Returns:\n",
    "    - pd.DataFrame: A DataFrame with renamed and filtered columns.\n",
    "    \"\"\"\n",
    "    # Translate columns\n",
    "    df_translated = df.rename(columns=column_mapping)\n",
    "\n",
    "    # Determine columns to keep\n",
    "    df_translated = df_translated[columns_to_keep]\n",
    "\n",
    "    return df_translated\n"
   ]
  },
  {
   "cell_type": "code",
   "execution_count": 15,
   "id": "cbb7985e-b9ef-46ca-8f58-92fe3e4fcbd1",
   "metadata": {},
   "outputs": [],
   "source": [
    "columns_to_keep_workouts = ['WorkoutType', 'Title', 'WorkoutDescription', 'CoachComments', \n",
    "                            'HeartRateAverage', 'TimeTotalInHours', 'DistanceInMeters', 'PlannedDuration', 'PlannedDistanceInMeters']"
   ]
  },
  {
   "cell_type": "code",
   "execution_count": 16,
   "id": "8c664f21-b1e3-4f31-ba09-190015469e89",
   "metadata": {},
   "outputs": [],
   "source": [
    "french_to_english = {\n",
    "    'Type d\\'activité': 'WorkoutType',\n",
    "    'Titre': 'Title',\n",
    "    'Fréquence cardiaque moyenne': 'HeartRateAverage',\n",
    "    'Durée': 'TimeTotalInHours',\n",
    "    'Distance': 'DistanceInMeters',\n",
    "    'Calories': 'Calories'\n",
    "}"
   ]
  },
  {
   "cell_type": "code",
   "execution_count": 17,
   "id": "bd91c598-31d0-4bb7-91d7-553bad398058",
   "metadata": {},
   "outputs": [],
   "source": [
    "columns_to_keep_activities = list(french_to_english.values())"
   ]
  },
  {
   "cell_type": "code",
   "execution_count": 18,
   "id": "2e1184e5-6c69-40cd-8671-cf0109a0280e",
   "metadata": {},
   "outputs": [],
   "source": [
    "workouts_df = filter_and_translate_columns(workouts_df, {}, columns_to_keep_workouts).copy()"
   ]
  },
  {
   "cell_type": "code",
   "execution_count": 19,
   "id": "1553e145-efca-4e47-8c6d-c166e1c55a92",
   "metadata": {},
   "outputs": [],
   "source": [
    "activities_df = filter_and_translate_columns(activities_df, french_to_english, columns_to_keep_activities).copy()"
   ]
  },
  {
   "cell_type": "code",
   "execution_count": 20,
   "id": "2e63902d-9e18-484b-9bb6-95e9ea064ca4",
   "metadata": {},
   "outputs": [
    {
     "data": {
      "text/plain": [
       "array(['Other', 'Run', 'Strength', 'Swim', 'Bike', 'Brick', 'Day Off'],\n",
       "      dtype=object)"
      ]
     },
     "execution_count": 20,
     "metadata": {},
     "output_type": "execute_result"
    }
   ],
   "source": [
    "workouts_df['WorkoutType'].unique()"
   ]
  },
  {
   "cell_type": "code",
   "execution_count": 21,
   "id": "fa44045d-e672-4f2f-9614-2622a2996020",
   "metadata": {},
   "outputs": [
    {
     "data": {
      "text/plain": [
       "array(['Cyclisme', 'Course à pied', 'Nat. piscine', 'Cyclisme virtuel',\n",
       "       \"Vélo d'intérieur\", 'Musculation',\n",
       "       'Course à pied sur tapis roulant', 'HIIT', 'Natation',\n",
       "       'Exercice de respiration'], dtype=object)"
      ]
     },
     "execution_count": 21,
     "metadata": {},
     "output_type": "execute_result"
    }
   ],
   "source": [
    "activities_df['WorkoutType'].unique()"
   ]
  },
  {
   "cell_type": "code",
   "execution_count": 30,
   "id": "e09f7ee3-087c-4ca2-bc02-ba03623ec81d",
   "metadata": {},
   "outputs": [],
   "source": [
    "def filter_and_translate_workouts(df, workouts_to_remove, sports_mapping=None):\n",
    "    \"\"\"\n",
    "    Filters and translates workout types in a DataFrame based on specified criteria.\n",
    "\n",
    "    Parameters:\n",
    "    - df (pd.DataFrame): The DataFrame with workout data.\n",
    "    - workouts_to_remove (list): List of workout types to exclude from the DataFrame.\n",
    "    - sports_mapping (dict, optional): A dictionary to translate workout types. Defaults to None.\n",
    "\n",
    "    Returns:\n",
    "    - pd.DataFrame: The DataFrame with filtered and translated workout types.\n",
    "    \"\"\"\n",
    "    # Filter out unwanted workout types\n",
    "    df_filtered = df[~df['WorkoutType'].isin(workouts_to_remove)].copy()\n",
    "\n",
    "    # Apply mapping if provided\n",
    "    if sports_mapping:\n",
    "        df_filtered['WorkoutType'] = df_filtered['WorkoutType'].map(sports_mapping).fillna(df_filtered['WorkoutType'])\n",
    "\n",
    "    return df_filtered\n"
   ]
  },
  {
   "cell_type": "code",
   "execution_count": 31,
   "id": "ce772db8-793d-4277-8df0-0b42033d8270",
   "metadata": {},
   "outputs": [],
   "source": [
    "workouts_to_remove_both_dfs = ['Other', 'Strength', 'Day Off', 'HIIT', 'Exercice de respiration', 'Musculation']"
   ]
  },
  {
   "cell_type": "code",
   "execution_count": 32,
   "id": "ba3de112-b50c-4b28-aca8-ea6bbd832038",
   "metadata": {},
   "outputs": [],
   "source": [
    "sports_types = {\n",
    "    'Nat. piscine': 'Swim',\n",
    "    'Cyclisme': 'Bike',\n",
    "    'Course à pied': 'Run',\n",
    "    \"Vélo d'intérieur\": 'Bike',\n",
    "    'Cyclisme virtuel': 'Bike',\n",
    "    'Course à pied sur tapis roulant': 'Run',\n",
    "    'Natation': 'Swim',\n",
    "}"
   ]
  },
  {
   "cell_type": "code",
   "execution_count": 33,
   "id": "88281143-ac68-4a8d-985f-8975ea5d8574",
   "metadata": {},
   "outputs": [],
   "source": [
    "workouts_df = filter_and_translate_workouts(workouts_df, workouts_to_remove_both_dfs).copy()"
   ]
  },
  {
   "cell_type": "code",
   "execution_count": 34,
   "id": "ce45e26d-2c0e-43a6-a984-51669c99f3e2",
   "metadata": {},
   "outputs": [],
   "source": [
    "activities_df = filter_and_translate_workouts(activities_df, workouts_to_remove_both_dfs, sports_types).copy()"
   ]
  },
  {
   "cell_type": "code",
   "execution_count": 36,
   "id": "4bc69b06-0c3b-4430-b210-a757f0e15cf4",
   "metadata": {},
   "outputs": [
    {
     "data": {
      "text/plain": [
       "array(['Run', 'Swim', 'Bike', 'Brick'], dtype=object)"
      ]
     },
     "execution_count": 36,
     "metadata": {},
     "output_type": "execute_result"
    }
   ],
   "source": [
    "workouts_df['WorkoutType'].unique()"
   ]
  },
  {
   "cell_type": "code",
   "execution_count": 37,
   "id": "b1f91830-8664-4f1a-99fa-eb119afaa11d",
   "metadata": {},
   "outputs": [
    {
     "data": {
      "text/plain": [
       "array(['Bike', 'Run', 'Swim'], dtype=object)"
      ]
     },
     "execution_count": 37,
     "metadata": {},
     "output_type": "execute_result"
    }
   ],
   "source": [
    "activities_df['WorkoutType'].unique()"
   ]
  },
  {
   "cell_type": "code",
   "execution_count": 38,
   "id": "8be47f3d-a0bf-4d6f-997c-3129030467f3",
   "metadata": {},
   "outputs": [
    {
     "data": {
      "text/html": [
       "<div>\n",
       "<style scoped>\n",
       "    .dataframe tbody tr th:only-of-type {\n",
       "        vertical-align: middle;\n",
       "    }\n",
       "\n",
       "    .dataframe tbody tr th {\n",
       "        vertical-align: top;\n",
       "    }\n",
       "\n",
       "    .dataframe thead th {\n",
       "        text-align: right;\n",
       "    }\n",
       "</style>\n",
       "<table border=\"1\" class=\"dataframe\">\n",
       "  <thead>\n",
       "    <tr style=\"text-align: right;\">\n",
       "      <th></th>\n",
       "      <th>WorkoutType</th>\n",
       "      <th>Title</th>\n",
       "      <th>WorkoutDescription</th>\n",
       "      <th>CoachComments</th>\n",
       "      <th>HeartRateAverage</th>\n",
       "      <th>TimeTotalInHours</th>\n",
       "      <th>DistanceInMeters</th>\n",
       "      <th>PlannedDuration</th>\n",
       "      <th>PlannedDistanceInMeters</th>\n",
       "    </tr>\n",
       "    <tr>\n",
       "      <th>Date</th>\n",
       "      <th></th>\n",
       "      <th></th>\n",
       "      <th></th>\n",
       "      <th></th>\n",
       "      <th></th>\n",
       "      <th></th>\n",
       "      <th></th>\n",
       "      <th></th>\n",
       "      <th></th>\n",
       "    </tr>\n",
       "  </thead>\n",
       "  <tbody>\n",
       "    <tr>\n",
       "      <th>2022-03-13</th>\n",
       "      <td>Run</td>\n",
       "      <td>Running</td>\n",
       "      <td>NaN</td>\n",
       "      <td>NaN</td>\n",
       "      <td>147.0</td>\n",
       "      <td>0.227822</td>\n",
       "      <td>2190.780029</td>\n",
       "      <td>NaN</td>\n",
       "      <td>NaN</td>\n",
       "    </tr>\n",
       "    <tr>\n",
       "      <th>2022-03-14</th>\n",
       "      <td>Run</td>\n",
       "      <td>Running</td>\n",
       "      <td>NaN</td>\n",
       "      <td>NaN</td>\n",
       "      <td>126.0</td>\n",
       "      <td>0.317827</td>\n",
       "      <td>2363.750000</td>\n",
       "      <td>NaN</td>\n",
       "      <td>NaN</td>\n",
       "    </tr>\n",
       "    <tr>\n",
       "      <th>2022-03-15</th>\n",
       "      <td>Run</td>\n",
       "      <td>Running</td>\n",
       "      <td>NaN</td>\n",
       "      <td>NaN</td>\n",
       "      <td>162.0</td>\n",
       "      <td>0.366062</td>\n",
       "      <td>3018.330078</td>\n",
       "      <td>NaN</td>\n",
       "      <td>NaN</td>\n",
       "    </tr>\n",
       "    <tr>\n",
       "      <th>2022-03-16</th>\n",
       "      <td>Run</td>\n",
       "      <td>Running</td>\n",
       "      <td>NaN</td>\n",
       "      <td>NaN</td>\n",
       "      <td>151.0</td>\n",
       "      <td>0.500626</td>\n",
       "      <td>3558.080078</td>\n",
       "      <td>NaN</td>\n",
       "      <td>NaN</td>\n",
       "    </tr>\n",
       "    <tr>\n",
       "      <th>2022-03-19</th>\n",
       "      <td>Run</td>\n",
       "      <td>Running</td>\n",
       "      <td>NaN</td>\n",
       "      <td>NaN</td>\n",
       "      <td>138.0</td>\n",
       "      <td>0.093556</td>\n",
       "      <td>760.710022</td>\n",
       "      <td>NaN</td>\n",
       "      <td>NaN</td>\n",
       "    </tr>\n",
       "  </tbody>\n",
       "</table>\n",
       "</div>"
      ],
      "text/plain": [
       "           WorkoutType    Title WorkoutDescription CoachComments  \\\n",
       "Date                                                               \n",
       "2022-03-13         Run  Running                NaN           NaN   \n",
       "2022-03-14         Run  Running                NaN           NaN   \n",
       "2022-03-15         Run  Running                NaN           NaN   \n",
       "2022-03-16         Run  Running                NaN           NaN   \n",
       "2022-03-19         Run  Running                NaN           NaN   \n",
       "\n",
       "            HeartRateAverage  TimeTotalInHours  DistanceInMeters  \\\n",
       "Date                                                               \n",
       "2022-03-13             147.0          0.227822       2190.780029   \n",
       "2022-03-14             126.0          0.317827       2363.750000   \n",
       "2022-03-15             162.0          0.366062       3018.330078   \n",
       "2022-03-16             151.0          0.500626       3558.080078   \n",
       "2022-03-19             138.0          0.093556        760.710022   \n",
       "\n",
       "            PlannedDuration  PlannedDistanceInMeters  \n",
       "Date                                                  \n",
       "2022-03-13              NaN                      NaN  \n",
       "2022-03-14              NaN                      NaN  \n",
       "2022-03-15              NaN                      NaN  \n",
       "2022-03-16              NaN                      NaN  \n",
       "2022-03-19              NaN                      NaN  "
      ]
     },
     "execution_count": 38,
     "metadata": {},
     "output_type": "execute_result"
    }
   ],
   "source": [
    "workouts_df.head()"
   ]
  },
  {
   "cell_type": "code",
   "execution_count": 39,
   "id": "01178098-0631-4923-82c8-16e8de9f8e23",
   "metadata": {},
   "outputs": [
    {
     "data": {
      "text/html": [
       "<div>\n",
       "<style scoped>\n",
       "    .dataframe tbody tr th:only-of-type {\n",
       "        vertical-align: middle;\n",
       "    }\n",
       "\n",
       "    .dataframe tbody tr th {\n",
       "        vertical-align: top;\n",
       "    }\n",
       "\n",
       "    .dataframe thead th {\n",
       "        text-align: right;\n",
       "    }\n",
       "</style>\n",
       "<table border=\"1\" class=\"dataframe\">\n",
       "  <thead>\n",
       "    <tr style=\"text-align: right;\">\n",
       "      <th></th>\n",
       "      <th>WorkoutType</th>\n",
       "      <th>Title</th>\n",
       "      <th>HeartRateAverage</th>\n",
       "      <th>TimeTotalInHours</th>\n",
       "      <th>DistanceInMeters</th>\n",
       "      <th>Calories</th>\n",
       "    </tr>\n",
       "  </thead>\n",
       "  <tbody>\n",
       "    <tr>\n",
       "      <th>0</th>\n",
       "      <td>Bike</td>\n",
       "      <td>Vincennes - Base Build Pyramid</td>\n",
       "      <td>151</td>\n",
       "      <td>00:46:49</td>\n",
       "      <td>20.73</td>\n",
       "      <td>601</td>\n",
       "    </tr>\n",
       "    <tr>\n",
       "      <th>1</th>\n",
       "      <td>Run</td>\n",
       "      <td>Zone 3 Intervals</td>\n",
       "      <td>157</td>\n",
       "      <td>00:13:38</td>\n",
       "      <td>1.73</td>\n",
       "      <td>187</td>\n",
       "    </tr>\n",
       "    <tr>\n",
       "      <th>2</th>\n",
       "      <td>Bike</td>\n",
       "      <td>Paris - Easy Effort spin</td>\n",
       "      <td>140</td>\n",
       "      <td>00:31:21</td>\n",
       "      <td>3.95</td>\n",
       "      <td>357</td>\n",
       "    </tr>\n",
       "    <tr>\n",
       "      <th>3</th>\n",
       "      <td>Run</td>\n",
       "      <td>Run Test</td>\n",
       "      <td>141</td>\n",
       "      <td>00:22:28</td>\n",
       "      <td>2.71</td>\n",
       "      <td>278</td>\n",
       "    </tr>\n",
       "    <tr>\n",
       "      <th>4</th>\n",
       "      <td>Swim</td>\n",
       "      <td>Nat. piscine</td>\n",
       "      <td>136</td>\n",
       "      <td>00:22:11</td>\n",
       "      <td>1,000</td>\n",
       "      <td>255</td>\n",
       "    </tr>\n",
       "  </tbody>\n",
       "</table>\n",
       "</div>"
      ],
      "text/plain": [
       "  WorkoutType                           Title HeartRateAverage  \\\n",
       "0        Bike  Vincennes - Base Build Pyramid              151   \n",
       "1         Run                Zone 3 Intervals              157   \n",
       "2        Bike        Paris - Easy Effort spin              140   \n",
       "3         Run                        Run Test              141   \n",
       "4        Swim                    Nat. piscine              136   \n",
       "\n",
       "  TimeTotalInHours DistanceInMeters Calories  \n",
       "0         00:46:49            20.73      601  \n",
       "1         00:13:38             1.73      187  \n",
       "2         00:31:21             3.95      357  \n",
       "3         00:22:28             2.71      278  \n",
       "4         00:22:11            1,000      255  "
      ]
     },
     "execution_count": 39,
     "metadata": {},
     "output_type": "execute_result"
    }
   ],
   "source": [
    "activities_df.head()"
   ]
  },
  {
   "cell_type": "code",
   "execution_count": 40,
   "id": "c33fe6cf-e4a5-45e6-bdcd-f7704d6e709e",
   "metadata": {},
   "outputs": [
    {
     "name": "stdout",
     "output_type": "stream",
     "text": [
      "<class 'pandas.core.frame.DataFrame'>\n",
      "DatetimeIndex: 796 entries, 2022-03-13 to 2025-03-03\n",
      "Data columns (total 9 columns):\n",
      " #   Column                   Non-Null Count  Dtype  \n",
      "---  ------                   --------------  -----  \n",
      " 0   WorkoutType              796 non-null    object \n",
      " 1   Title                    796 non-null    object \n",
      " 2   WorkoutDescription       488 non-null    object \n",
      " 3   CoachComments            335 non-null    object \n",
      " 4   HeartRateAverage         547 non-null    float64\n",
      " 5   TimeTotalInHours         572 non-null    float64\n",
      " 6   DistanceInMeters         572 non-null    float64\n",
      " 7   PlannedDuration          485 non-null    float64\n",
      " 8   PlannedDistanceInMeters  144 non-null    float64\n",
      "dtypes: float64(5), object(4)\n",
      "memory usage: 62.2+ KB\n"
     ]
    }
   ],
   "source": [
    "workouts_df.info()"
   ]
  },
  {
   "cell_type": "code",
   "execution_count": 41,
   "id": "d54d760f-1421-410f-ae6f-51cbf535b5c3",
   "metadata": {},
   "outputs": [
    {
     "name": "stdout",
     "output_type": "stream",
     "text": [
      "<class 'pandas.core.frame.DataFrame'>\n",
      "Index: 574 entries, 0 to 581\n",
      "Data columns (total 6 columns):\n",
      " #   Column            Non-Null Count  Dtype \n",
      "---  ------            --------------  ----- \n",
      " 0   WorkoutType       574 non-null    object\n",
      " 1   Title             574 non-null    object\n",
      " 2   HeartRateAverage  549 non-null    object\n",
      " 3   TimeTotalInHours  574 non-null    object\n",
      " 4   DistanceInMeters  574 non-null    object\n",
      " 5   Calories          573 non-null    object\n",
      "dtypes: object(6)\n",
      "memory usage: 31.4+ KB\n"
     ]
    }
   ],
   "source": [
    "activities_df.info()"
   ]
  },
  {
   "cell_type": "code",
   "execution_count": 42,
   "id": "e4a7916a-a3e4-4b5a-a48e-1cb6b1771652",
   "metadata": {},
   "outputs": [
    {
     "data": {
      "text/plain": [
       "np.int64(249)"
      ]
     },
     "execution_count": 42,
     "metadata": {},
     "output_type": "execute_result"
    }
   ],
   "source": [
    "workouts_df['HeartRateAverage'].isna().sum()"
   ]
  }
 ],
 "metadata": {
  "kernelspec": {
   "display_name": "Python 3 (ipykernel)",
   "language": "python",
   "name": "python3"
  },
  "language_info": {
   "codemirror_mode": {
    "name": "ipython",
    "version": 3
   },
   "file_extension": ".py",
   "mimetype": "text/x-python",
   "name": "python",
   "nbconvert_exporter": "python",
   "pygments_lexer": "ipython3",
   "version": "3.10.6"
  }
 },
 "nbformat": 4,
 "nbformat_minor": 5
}
